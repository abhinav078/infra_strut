{
  "nbformat": 4,
  "nbformat_minor": 0,
  "metadata": {
    "colab": {
      "provenance": []
    },
    "kernelspec": {
      "name": "python3",
      "display_name": "Python 3"
    },
    "language_info": {
      "name": "python"
    }
  },
  "cells": [
    {
      "cell_type": "code",
      "execution_count": 17,
      "metadata": {
        "id": "hH_OhSllFrMX"
      },
      "outputs": [],
      "source": [
        "import pandas as pd"
      ]
    },
    {
      "cell_type": "code",
      "source": [
        "data = pd.read_csv('/content/reviews.csv')\n",
        "data"
      ],
      "metadata": {
        "colab": {
          "base_uri": "https://localhost:8080/",
          "height": 424
        },
        "id": "6zmHajjLJkA1",
        "outputId": "a9264486-49b4-4ed0-f2fc-9e9c39530662"
      },
      "execution_count": 18,
      "outputs": [
        {
          "output_type": "execute_result",
          "data": {
            "text/plain": [
              "       listing_id        id        date  reviewer_id reviewer_name  \\\n",
              "0         7202016  38917982  2015-07-19     28943674        Bianca   \n",
              "1         7202016  39087409  2015-07-20     32440555         Frank   \n",
              "2         7202016  39820030  2015-07-26     37722850           Ian   \n",
              "3         7202016  40813543  2015-08-02     33671805        George   \n",
              "4         7202016  41986501  2015-08-10     34959538          Ming   \n",
              "...           ...       ...         ...          ...           ...   \n",
              "84844     3624990  50436321  2015-10-12     37419458          Ryan   \n",
              "84845     3624990  51024875  2015-10-17      6933252         Linda   \n",
              "84846     3624990  51511988  2015-10-20     19543701         Jaime   \n",
              "84847     3624990  52814482  2015-11-02     24445024        Jørgen   \n",
              "84848     9727246  56429621  2015-12-13     30860360     Stephanie   \n",
              "\n",
              "                                                comments  \n",
              "0      Cute and cozy place. Perfect location to every...  \n",
              "1      Kelly has a great room in a very central locat...  \n",
              "2      Very spacious apartment, and in a great neighb...  \n",
              "3      Close to Seattle Center and all it has to offe...  \n",
              "4      Kelly was a great host and very accommodating ...  \n",
              "...                                                  ...  \n",
              "84844  The description and pictures of the apartment ...  \n",
              "84845  We had an excellent stay. It was clean and com...  \n",
              "84846  Gran ubicación, cerca de todo lo atractivo del...  \n",
              "84847  Very good apartement, clean and well sized. Si...  \n",
              "84848  Breanne was a great host. Check in was easy, s...  \n",
              "\n",
              "[84849 rows x 6 columns]"
            ],
            "text/html": [
              "\n",
              "  <div id=\"df-967e0fdf-f63e-410a-b5d4-b793f2613fbc\">\n",
              "    <div class=\"colab-df-container\">\n",
              "      <div>\n",
              "<style scoped>\n",
              "    .dataframe tbody tr th:only-of-type {\n",
              "        vertical-align: middle;\n",
              "    }\n",
              "\n",
              "    .dataframe tbody tr th {\n",
              "        vertical-align: top;\n",
              "    }\n",
              "\n",
              "    .dataframe thead th {\n",
              "        text-align: right;\n",
              "    }\n",
              "</style>\n",
              "<table border=\"1\" class=\"dataframe\">\n",
              "  <thead>\n",
              "    <tr style=\"text-align: right;\">\n",
              "      <th></th>\n",
              "      <th>listing_id</th>\n",
              "      <th>id</th>\n",
              "      <th>date</th>\n",
              "      <th>reviewer_id</th>\n",
              "      <th>reviewer_name</th>\n",
              "      <th>comments</th>\n",
              "    </tr>\n",
              "  </thead>\n",
              "  <tbody>\n",
              "    <tr>\n",
              "      <th>0</th>\n",
              "      <td>7202016</td>\n",
              "      <td>38917982</td>\n",
              "      <td>2015-07-19</td>\n",
              "      <td>28943674</td>\n",
              "      <td>Bianca</td>\n",
              "      <td>Cute and cozy place. Perfect location to every...</td>\n",
              "    </tr>\n",
              "    <tr>\n",
              "      <th>1</th>\n",
              "      <td>7202016</td>\n",
              "      <td>39087409</td>\n",
              "      <td>2015-07-20</td>\n",
              "      <td>32440555</td>\n",
              "      <td>Frank</td>\n",
              "      <td>Kelly has a great room in a very central locat...</td>\n",
              "    </tr>\n",
              "    <tr>\n",
              "      <th>2</th>\n",
              "      <td>7202016</td>\n",
              "      <td>39820030</td>\n",
              "      <td>2015-07-26</td>\n",
              "      <td>37722850</td>\n",
              "      <td>Ian</td>\n",
              "      <td>Very spacious apartment, and in a great neighb...</td>\n",
              "    </tr>\n",
              "    <tr>\n",
              "      <th>3</th>\n",
              "      <td>7202016</td>\n",
              "      <td>40813543</td>\n",
              "      <td>2015-08-02</td>\n",
              "      <td>33671805</td>\n",
              "      <td>George</td>\n",
              "      <td>Close to Seattle Center and all it has to offe...</td>\n",
              "    </tr>\n",
              "    <tr>\n",
              "      <th>4</th>\n",
              "      <td>7202016</td>\n",
              "      <td>41986501</td>\n",
              "      <td>2015-08-10</td>\n",
              "      <td>34959538</td>\n",
              "      <td>Ming</td>\n",
              "      <td>Kelly was a great host and very accommodating ...</td>\n",
              "    </tr>\n",
              "    <tr>\n",
              "      <th>...</th>\n",
              "      <td>...</td>\n",
              "      <td>...</td>\n",
              "      <td>...</td>\n",
              "      <td>...</td>\n",
              "      <td>...</td>\n",
              "      <td>...</td>\n",
              "    </tr>\n",
              "    <tr>\n",
              "      <th>84844</th>\n",
              "      <td>3624990</td>\n",
              "      <td>50436321</td>\n",
              "      <td>2015-10-12</td>\n",
              "      <td>37419458</td>\n",
              "      <td>Ryan</td>\n",
              "      <td>The description and pictures of the apartment ...</td>\n",
              "    </tr>\n",
              "    <tr>\n",
              "      <th>84845</th>\n",
              "      <td>3624990</td>\n",
              "      <td>51024875</td>\n",
              "      <td>2015-10-17</td>\n",
              "      <td>6933252</td>\n",
              "      <td>Linda</td>\n",
              "      <td>We had an excellent stay. It was clean and com...</td>\n",
              "    </tr>\n",
              "    <tr>\n",
              "      <th>84846</th>\n",
              "      <td>3624990</td>\n",
              "      <td>51511988</td>\n",
              "      <td>2015-10-20</td>\n",
              "      <td>19543701</td>\n",
              "      <td>Jaime</td>\n",
              "      <td>Gran ubicación, cerca de todo lo atractivo del...</td>\n",
              "    </tr>\n",
              "    <tr>\n",
              "      <th>84847</th>\n",
              "      <td>3624990</td>\n",
              "      <td>52814482</td>\n",
              "      <td>2015-11-02</td>\n",
              "      <td>24445024</td>\n",
              "      <td>Jørgen</td>\n",
              "      <td>Very good apartement, clean and well sized. Si...</td>\n",
              "    </tr>\n",
              "    <tr>\n",
              "      <th>84848</th>\n",
              "      <td>9727246</td>\n",
              "      <td>56429621</td>\n",
              "      <td>2015-12-13</td>\n",
              "      <td>30860360</td>\n",
              "      <td>Stephanie</td>\n",
              "      <td>Breanne was a great host. Check in was easy, s...</td>\n",
              "    </tr>\n",
              "  </tbody>\n",
              "</table>\n",
              "<p>84849 rows × 6 columns</p>\n",
              "</div>\n",
              "      <button class=\"colab-df-convert\" onclick=\"convertToInteractive('df-967e0fdf-f63e-410a-b5d4-b793f2613fbc')\"\n",
              "              title=\"Convert this dataframe to an interactive table.\"\n",
              "              style=\"display:none;\">\n",
              "        \n",
              "  <svg xmlns=\"http://www.w3.org/2000/svg\" height=\"24px\"viewBox=\"0 0 24 24\"\n",
              "       width=\"24px\">\n",
              "    <path d=\"M0 0h24v24H0V0z\" fill=\"none\"/>\n",
              "    <path d=\"M18.56 5.44l.94 2.06.94-2.06 2.06-.94-2.06-.94-.94-2.06-.94 2.06-2.06.94zm-11 1L8.5 8.5l.94-2.06 2.06-.94-2.06-.94L8.5 2.5l-.94 2.06-2.06.94zm10 10l.94 2.06.94-2.06 2.06-.94-2.06-.94-.94-2.06-.94 2.06-2.06.94z\"/><path d=\"M17.41 7.96l-1.37-1.37c-.4-.4-.92-.59-1.43-.59-.52 0-1.04.2-1.43.59L10.3 9.45l-7.72 7.72c-.78.78-.78 2.05 0 2.83L4 21.41c.39.39.9.59 1.41.59.51 0 1.02-.2 1.41-.59l7.78-7.78 2.81-2.81c.8-.78.8-2.07 0-2.86zM5.41 20L4 18.59l7.72-7.72 1.47 1.35L5.41 20z\"/>\n",
              "  </svg>\n",
              "      </button>\n",
              "      \n",
              "  <style>\n",
              "    .colab-df-container {\n",
              "      display:flex;\n",
              "      flex-wrap:wrap;\n",
              "      gap: 12px;\n",
              "    }\n",
              "\n",
              "    .colab-df-convert {\n",
              "      background-color: #E8F0FE;\n",
              "      border: none;\n",
              "      border-radius: 50%;\n",
              "      cursor: pointer;\n",
              "      display: none;\n",
              "      fill: #1967D2;\n",
              "      height: 32px;\n",
              "      padding: 0 0 0 0;\n",
              "      width: 32px;\n",
              "    }\n",
              "\n",
              "    .colab-df-convert:hover {\n",
              "      background-color: #E2EBFA;\n",
              "      box-shadow: 0px 1px 2px rgba(60, 64, 67, 0.3), 0px 1px 3px 1px rgba(60, 64, 67, 0.15);\n",
              "      fill: #174EA6;\n",
              "    }\n",
              "\n",
              "    [theme=dark] .colab-df-convert {\n",
              "      background-color: #3B4455;\n",
              "      fill: #D2E3FC;\n",
              "    }\n",
              "\n",
              "    [theme=dark] .colab-df-convert:hover {\n",
              "      background-color: #434B5C;\n",
              "      box-shadow: 0px 1px 3px 1px rgba(0, 0, 0, 0.15);\n",
              "      filter: drop-shadow(0px 1px 2px rgba(0, 0, 0, 0.3));\n",
              "      fill: #FFFFFF;\n",
              "    }\n",
              "  </style>\n",
              "\n",
              "      <script>\n",
              "        const buttonEl =\n",
              "          document.querySelector('#df-967e0fdf-f63e-410a-b5d4-b793f2613fbc button.colab-df-convert');\n",
              "        buttonEl.style.display =\n",
              "          google.colab.kernel.accessAllowed ? 'block' : 'none';\n",
              "\n",
              "        async function convertToInteractive(key) {\n",
              "          const element = document.querySelector('#df-967e0fdf-f63e-410a-b5d4-b793f2613fbc');\n",
              "          const dataTable =\n",
              "            await google.colab.kernel.invokeFunction('convertToInteractive',\n",
              "                                                     [key], {});\n",
              "          if (!dataTable) return;\n",
              "\n",
              "          const docLinkHtml = 'Like what you see? Visit the ' +\n",
              "            '<a target=\"_blank\" href=https://colab.research.google.com/notebooks/data_table.ipynb>data table notebook</a>'\n",
              "            + ' to learn more about interactive tables.';\n",
              "          element.innerHTML = '';\n",
              "          dataTable['output_type'] = 'display_data';\n",
              "          await google.colab.output.renderOutput(dataTable, element);\n",
              "          const docLink = document.createElement('div');\n",
              "          docLink.innerHTML = docLinkHtml;\n",
              "          element.appendChild(docLink);\n",
              "        }\n",
              "      </script>\n",
              "    </div>\n",
              "  </div>\n",
              "  "
            ]
          },
          "metadata": {},
          "execution_count": 18
        }
      ]
    },
    {
      "cell_type": "markdown",
      "source": [
        "Data cleaning"
      ],
      "metadata": {
        "id": "x8PQ9zqaKAOM"
      }
    },
    {
      "cell_type": "code",
      "source": [
        "data.isnull().sum()"
      ],
      "metadata": {
        "colab": {
          "base_uri": "https://localhost:8080/"
        },
        "id": "gCZxuxmEJ_v5",
        "outputId": "2c04e1e3-ca0c-438c-acab-5210ea41d6bd"
      },
      "execution_count": 19,
      "outputs": [
        {
          "output_type": "execute_result",
          "data": {
            "text/plain": [
              "listing_id        0\n",
              "id                0\n",
              "date              0\n",
              "reviewer_id       0\n",
              "reviewer_name     0\n",
              "comments         18\n",
              "dtype: int64"
            ]
          },
          "metadata": {},
          "execution_count": 19
        }
      ]
    },
    {
      "cell_type": "code",
      "source": [
        "data = data.dropna()\n",
        "data"
      ],
      "metadata": {
        "colab": {
          "base_uri": "https://localhost:8080/",
          "height": 424
        },
        "id": "d6wCSi8iJ0pM",
        "outputId": "67e9441c-b25f-447b-8a1a-786f211fdbe9"
      },
      "execution_count": 20,
      "outputs": [
        {
          "output_type": "execute_result",
          "data": {
            "text/plain": [
              "       listing_id        id        date  reviewer_id reviewer_name  \\\n",
              "0         7202016  38917982  2015-07-19     28943674        Bianca   \n",
              "1         7202016  39087409  2015-07-20     32440555         Frank   \n",
              "2         7202016  39820030  2015-07-26     37722850           Ian   \n",
              "3         7202016  40813543  2015-08-02     33671805        George   \n",
              "4         7202016  41986501  2015-08-10     34959538          Ming   \n",
              "...           ...       ...         ...          ...           ...   \n",
              "84844     3624990  50436321  2015-10-12     37419458          Ryan   \n",
              "84845     3624990  51024875  2015-10-17      6933252         Linda   \n",
              "84846     3624990  51511988  2015-10-20     19543701         Jaime   \n",
              "84847     3624990  52814482  2015-11-02     24445024        Jørgen   \n",
              "84848     9727246  56429621  2015-12-13     30860360     Stephanie   \n",
              "\n",
              "                                                comments  \n",
              "0      Cute and cozy place. Perfect location to every...  \n",
              "1      Kelly has a great room in a very central locat...  \n",
              "2      Very spacious apartment, and in a great neighb...  \n",
              "3      Close to Seattle Center and all it has to offe...  \n",
              "4      Kelly was a great host and very accommodating ...  \n",
              "...                                                  ...  \n",
              "84844  The description and pictures of the apartment ...  \n",
              "84845  We had an excellent stay. It was clean and com...  \n",
              "84846  Gran ubicación, cerca de todo lo atractivo del...  \n",
              "84847  Very good apartement, clean and well sized. Si...  \n",
              "84848  Breanne was a great host. Check in was easy, s...  \n",
              "\n",
              "[84831 rows x 6 columns]"
            ],
            "text/html": [
              "\n",
              "  <div id=\"df-76f54fd3-e60b-476d-b31b-400db01a4dac\">\n",
              "    <div class=\"colab-df-container\">\n",
              "      <div>\n",
              "<style scoped>\n",
              "    .dataframe tbody tr th:only-of-type {\n",
              "        vertical-align: middle;\n",
              "    }\n",
              "\n",
              "    .dataframe tbody tr th {\n",
              "        vertical-align: top;\n",
              "    }\n",
              "\n",
              "    .dataframe thead th {\n",
              "        text-align: right;\n",
              "    }\n",
              "</style>\n",
              "<table border=\"1\" class=\"dataframe\">\n",
              "  <thead>\n",
              "    <tr style=\"text-align: right;\">\n",
              "      <th></th>\n",
              "      <th>listing_id</th>\n",
              "      <th>id</th>\n",
              "      <th>date</th>\n",
              "      <th>reviewer_id</th>\n",
              "      <th>reviewer_name</th>\n",
              "      <th>comments</th>\n",
              "    </tr>\n",
              "  </thead>\n",
              "  <tbody>\n",
              "    <tr>\n",
              "      <th>0</th>\n",
              "      <td>7202016</td>\n",
              "      <td>38917982</td>\n",
              "      <td>2015-07-19</td>\n",
              "      <td>28943674</td>\n",
              "      <td>Bianca</td>\n",
              "      <td>Cute and cozy place. Perfect location to every...</td>\n",
              "    </tr>\n",
              "    <tr>\n",
              "      <th>1</th>\n",
              "      <td>7202016</td>\n",
              "      <td>39087409</td>\n",
              "      <td>2015-07-20</td>\n",
              "      <td>32440555</td>\n",
              "      <td>Frank</td>\n",
              "      <td>Kelly has a great room in a very central locat...</td>\n",
              "    </tr>\n",
              "    <tr>\n",
              "      <th>2</th>\n",
              "      <td>7202016</td>\n",
              "      <td>39820030</td>\n",
              "      <td>2015-07-26</td>\n",
              "      <td>37722850</td>\n",
              "      <td>Ian</td>\n",
              "      <td>Very spacious apartment, and in a great neighb...</td>\n",
              "    </tr>\n",
              "    <tr>\n",
              "      <th>3</th>\n",
              "      <td>7202016</td>\n",
              "      <td>40813543</td>\n",
              "      <td>2015-08-02</td>\n",
              "      <td>33671805</td>\n",
              "      <td>George</td>\n",
              "      <td>Close to Seattle Center and all it has to offe...</td>\n",
              "    </tr>\n",
              "    <tr>\n",
              "      <th>4</th>\n",
              "      <td>7202016</td>\n",
              "      <td>41986501</td>\n",
              "      <td>2015-08-10</td>\n",
              "      <td>34959538</td>\n",
              "      <td>Ming</td>\n",
              "      <td>Kelly was a great host and very accommodating ...</td>\n",
              "    </tr>\n",
              "    <tr>\n",
              "      <th>...</th>\n",
              "      <td>...</td>\n",
              "      <td>...</td>\n",
              "      <td>...</td>\n",
              "      <td>...</td>\n",
              "      <td>...</td>\n",
              "      <td>...</td>\n",
              "    </tr>\n",
              "    <tr>\n",
              "      <th>84844</th>\n",
              "      <td>3624990</td>\n",
              "      <td>50436321</td>\n",
              "      <td>2015-10-12</td>\n",
              "      <td>37419458</td>\n",
              "      <td>Ryan</td>\n",
              "      <td>The description and pictures of the apartment ...</td>\n",
              "    </tr>\n",
              "    <tr>\n",
              "      <th>84845</th>\n",
              "      <td>3624990</td>\n",
              "      <td>51024875</td>\n",
              "      <td>2015-10-17</td>\n",
              "      <td>6933252</td>\n",
              "      <td>Linda</td>\n",
              "      <td>We had an excellent stay. It was clean and com...</td>\n",
              "    </tr>\n",
              "    <tr>\n",
              "      <th>84846</th>\n",
              "      <td>3624990</td>\n",
              "      <td>51511988</td>\n",
              "      <td>2015-10-20</td>\n",
              "      <td>19543701</td>\n",
              "      <td>Jaime</td>\n",
              "      <td>Gran ubicación, cerca de todo lo atractivo del...</td>\n",
              "    </tr>\n",
              "    <tr>\n",
              "      <th>84847</th>\n",
              "      <td>3624990</td>\n",
              "      <td>52814482</td>\n",
              "      <td>2015-11-02</td>\n",
              "      <td>24445024</td>\n",
              "      <td>Jørgen</td>\n",
              "      <td>Very good apartement, clean and well sized. Si...</td>\n",
              "    </tr>\n",
              "    <tr>\n",
              "      <th>84848</th>\n",
              "      <td>9727246</td>\n",
              "      <td>56429621</td>\n",
              "      <td>2015-12-13</td>\n",
              "      <td>30860360</td>\n",
              "      <td>Stephanie</td>\n",
              "      <td>Breanne was a great host. Check in was easy, s...</td>\n",
              "    </tr>\n",
              "  </tbody>\n",
              "</table>\n",
              "<p>84831 rows × 6 columns</p>\n",
              "</div>\n",
              "      <button class=\"colab-df-convert\" onclick=\"convertToInteractive('df-76f54fd3-e60b-476d-b31b-400db01a4dac')\"\n",
              "              title=\"Convert this dataframe to an interactive table.\"\n",
              "              style=\"display:none;\">\n",
              "        \n",
              "  <svg xmlns=\"http://www.w3.org/2000/svg\" height=\"24px\"viewBox=\"0 0 24 24\"\n",
              "       width=\"24px\">\n",
              "    <path d=\"M0 0h24v24H0V0z\" fill=\"none\"/>\n",
              "    <path d=\"M18.56 5.44l.94 2.06.94-2.06 2.06-.94-2.06-.94-.94-2.06-.94 2.06-2.06.94zm-11 1L8.5 8.5l.94-2.06 2.06-.94-2.06-.94L8.5 2.5l-.94 2.06-2.06.94zm10 10l.94 2.06.94-2.06 2.06-.94-2.06-.94-.94-2.06-.94 2.06-2.06.94z\"/><path d=\"M17.41 7.96l-1.37-1.37c-.4-.4-.92-.59-1.43-.59-.52 0-1.04.2-1.43.59L10.3 9.45l-7.72 7.72c-.78.78-.78 2.05 0 2.83L4 21.41c.39.39.9.59 1.41.59.51 0 1.02-.2 1.41-.59l7.78-7.78 2.81-2.81c.8-.78.8-2.07 0-2.86zM5.41 20L4 18.59l7.72-7.72 1.47 1.35L5.41 20z\"/>\n",
              "  </svg>\n",
              "      </button>\n",
              "      \n",
              "  <style>\n",
              "    .colab-df-container {\n",
              "      display:flex;\n",
              "      flex-wrap:wrap;\n",
              "      gap: 12px;\n",
              "    }\n",
              "\n",
              "    .colab-df-convert {\n",
              "      background-color: #E8F0FE;\n",
              "      border: none;\n",
              "      border-radius: 50%;\n",
              "      cursor: pointer;\n",
              "      display: none;\n",
              "      fill: #1967D2;\n",
              "      height: 32px;\n",
              "      padding: 0 0 0 0;\n",
              "      width: 32px;\n",
              "    }\n",
              "\n",
              "    .colab-df-convert:hover {\n",
              "      background-color: #E2EBFA;\n",
              "      box-shadow: 0px 1px 2px rgba(60, 64, 67, 0.3), 0px 1px 3px 1px rgba(60, 64, 67, 0.15);\n",
              "      fill: #174EA6;\n",
              "    }\n",
              "\n",
              "    [theme=dark] .colab-df-convert {\n",
              "      background-color: #3B4455;\n",
              "      fill: #D2E3FC;\n",
              "    }\n",
              "\n",
              "    [theme=dark] .colab-df-convert:hover {\n",
              "      background-color: #434B5C;\n",
              "      box-shadow: 0px 1px 3px 1px rgba(0, 0, 0, 0.15);\n",
              "      filter: drop-shadow(0px 1px 2px rgba(0, 0, 0, 0.3));\n",
              "      fill: #FFFFFF;\n",
              "    }\n",
              "  </style>\n",
              "\n",
              "      <script>\n",
              "        const buttonEl =\n",
              "          document.querySelector('#df-76f54fd3-e60b-476d-b31b-400db01a4dac button.colab-df-convert');\n",
              "        buttonEl.style.display =\n",
              "          google.colab.kernel.accessAllowed ? 'block' : 'none';\n",
              "\n",
              "        async function convertToInteractive(key) {\n",
              "          const element = document.querySelector('#df-76f54fd3-e60b-476d-b31b-400db01a4dac');\n",
              "          const dataTable =\n",
              "            await google.colab.kernel.invokeFunction('convertToInteractive',\n",
              "                                                     [key], {});\n",
              "          if (!dataTable) return;\n",
              "\n",
              "          const docLinkHtml = 'Like what you see? Visit the ' +\n",
              "            '<a target=\"_blank\" href=https://colab.research.google.com/notebooks/data_table.ipynb>data table notebook</a>'\n",
              "            + ' to learn more about interactive tables.';\n",
              "          element.innerHTML = '';\n",
              "          dataTable['output_type'] = 'display_data';\n",
              "          await google.colab.output.renderOutput(dataTable, element);\n",
              "          const docLink = document.createElement('div');\n",
              "          docLink.innerHTML = docLinkHtml;\n",
              "          element.appendChild(docLink);\n",
              "        }\n",
              "      </script>\n",
              "    </div>\n",
              "  </div>\n",
              "  "
            ]
          },
          "metadata": {},
          "execution_count": 20
        }
      ]
    },
    {
      "cell_type": "code",
      "source": [],
      "metadata": {
        "id": "whJ_U-IeWX7o"
      },
      "execution_count": 20,
      "outputs": []
    },
    {
      "cell_type": "code",
      "source": [
        "data.isnull().sum()"
      ],
      "metadata": {
        "colab": {
          "base_uri": "https://localhost:8080/"
        },
        "id": "topdCiMPMFV2",
        "outputId": "da806d4e-eeb5-4284-a786-338138d9dffd"
      },
      "execution_count": 21,
      "outputs": [
        {
          "output_type": "execute_result",
          "data": {
            "text/plain": [
              "listing_id       0\n",
              "id               0\n",
              "date             0\n",
              "reviewer_id      0\n",
              "reviewer_name    0\n",
              "comments         0\n",
              "dtype: int64"
            ]
          },
          "metadata": {},
          "execution_count": 21
        }
      ]
    },
    {
      "cell_type": "code",
      "source": [
        "data.info()"
      ],
      "metadata": {
        "colab": {
          "base_uri": "https://localhost:8080/"
        },
        "id": "EWl-6Fn0MKR6",
        "outputId": "ecf6a36d-9640-4c7e-896c-359162617ca9"
      },
      "execution_count": 22,
      "outputs": [
        {
          "output_type": "stream",
          "name": "stdout",
          "text": [
            "<class 'pandas.core.frame.DataFrame'>\n",
            "Int64Index: 84831 entries, 0 to 84848\n",
            "Data columns (total 6 columns):\n",
            " #   Column         Non-Null Count  Dtype \n",
            "---  ------         --------------  ----- \n",
            " 0   listing_id     84831 non-null  int64 \n",
            " 1   id             84831 non-null  int64 \n",
            " 2   date           84831 non-null  object\n",
            " 3   reviewer_id    84831 non-null  int64 \n",
            " 4   reviewer_name  84831 non-null  object\n",
            " 5   comments       84831 non-null  object\n",
            "dtypes: int64(3), object(3)\n",
            "memory usage: 4.5+ MB\n"
          ]
        }
      ]
    },
    {
      "cell_type": "code",
      "source": [
        "!pip install transformers requests beautifulsoup4 pandas numpy"
      ],
      "metadata": {
        "id": "oOx4NgKrMVIQ",
        "colab": {
          "base_uri": "https://localhost:8080/"
        },
        "outputId": "939c6c64-2de1-4f3b-a928-d36723151f27"
      },
      "execution_count": 23,
      "outputs": [
        {
          "output_type": "stream",
          "name": "stdout",
          "text": [
            "Looking in indexes: https://pypi.org/simple, https://us-python.pkg.dev/colab-wheels/public/simple/\n",
            "Requirement already satisfied: transformers in /usr/local/lib/python3.9/dist-packages (4.27.3)\n",
            "Requirement already satisfied: requests in /usr/local/lib/python3.9/dist-packages (2.27.1)\n",
            "Requirement already satisfied: beautifulsoup4 in /usr/local/lib/python3.9/dist-packages (4.11.2)\n",
            "Requirement already satisfied: pandas in /usr/local/lib/python3.9/dist-packages (1.4.4)\n",
            "Requirement already satisfied: numpy in /usr/local/lib/python3.9/dist-packages (1.22.4)\n",
            "Requirement already satisfied: filelock in /usr/local/lib/python3.9/dist-packages (from transformers) (3.10.2)\n",
            "Requirement already satisfied: regex!=2019.12.17 in /usr/local/lib/python3.9/dist-packages (from transformers) (2022.10.31)\n",
            "Requirement already satisfied: tqdm>=4.27 in /usr/local/lib/python3.9/dist-packages (from transformers) (4.65.0)\n",
            "Requirement already satisfied: pyyaml>=5.1 in /usr/local/lib/python3.9/dist-packages (from transformers) (6.0)\n",
            "Requirement already satisfied: huggingface-hub<1.0,>=0.11.0 in /usr/local/lib/python3.9/dist-packages (from transformers) (0.13.3)\n",
            "Requirement already satisfied: tokenizers!=0.11.3,<0.14,>=0.11.1 in /usr/local/lib/python3.9/dist-packages (from transformers) (0.13.2)\n",
            "Requirement already satisfied: packaging>=20.0 in /usr/local/lib/python3.9/dist-packages (from transformers) (23.0)\n",
            "Requirement already satisfied: certifi>=2017.4.17 in /usr/local/lib/python3.9/dist-packages (from requests) (2022.12.7)\n",
            "Requirement already satisfied: urllib3<1.27,>=1.21.1 in /usr/local/lib/python3.9/dist-packages (from requests) (1.26.15)\n",
            "Requirement already satisfied: idna<4,>=2.5 in /usr/local/lib/python3.9/dist-packages (from requests) (3.4)\n",
            "Requirement already satisfied: charset-normalizer~=2.0.0 in /usr/local/lib/python3.9/dist-packages (from requests) (2.0.12)\n",
            "Requirement already satisfied: soupsieve>1.2 in /usr/local/lib/python3.9/dist-packages (from beautifulsoup4) (2.4)\n",
            "Requirement already satisfied: pytz>=2020.1 in /usr/local/lib/python3.9/dist-packages (from pandas) (2022.7.1)\n",
            "Requirement already satisfied: python-dateutil>=2.8.1 in /usr/local/lib/python3.9/dist-packages (from pandas) (2.8.2)\n",
            "Requirement already satisfied: typing-extensions>=3.7.4.3 in /usr/local/lib/python3.9/dist-packages (from huggingface-hub<1.0,>=0.11.0->transformers) (4.5.0)\n",
            "Requirement already satisfied: six>=1.5 in /usr/local/lib/python3.9/dist-packages (from python-dateutil>=2.8.1->pandas) (1.16.0)\n"
          ]
        }
      ]
    },
    {
      "cell_type": "code",
      "source": [
        "from transformers import AutoTokenizer, AutoModelForSequenceClassification\n",
        "import torch\n",
        "import requests\n",
        "from bs4 import BeautifulSoup\n",
        "import re"
      ],
      "metadata": {
        "id": "RfHNyQxVm2XZ"
      },
      "execution_count": 24,
      "outputs": []
    },
    {
      "cell_type": "code",
      "source": [
        "tokenizer = AutoTokenizer.from_pretrained('nlptown/bert-base-multilingual-uncased-sentiment')\n",
        "\n",
        "model = AutoModelForSequenceClassification.from_pretrained('nlptown/bert-base-multilingual-uncased-sentiment')"
      ],
      "metadata": {
        "id": "T4RUykdTm5V2"
      },
      "execution_count": 25,
      "outputs": []
    },
    {
      "cell_type": "code",
      "source": [
        "tokens = tokenizer.encode('It was good but couldve been better. Great', return_tensors='pt')"
      ],
      "metadata": {
        "id": "rVNFV7L-m8FZ"
      },
      "execution_count": 26,
      "outputs": []
    },
    {
      "cell_type": "code",
      "source": [
        "result = model(tokens)"
      ],
      "metadata": {
        "id": "_-PWcGVvnDPa"
      },
      "execution_count": 27,
      "outputs": []
    },
    {
      "cell_type": "code",
      "source": [
        "result.logits\n"
      ],
      "metadata": {
        "colab": {
          "base_uri": "https://localhost:8080/"
        },
        "id": "6hvUF1wqnFUa",
        "outputId": "ab0397b5-13a5-4b14-dddb-4e175f4b43cc"
      },
      "execution_count": 28,
      "outputs": [
        {
          "output_type": "execute_result",
          "data": {
            "text/plain": [
              "tensor([[-2.7768, -1.2353,  1.4419,  1.9804,  0.4584]],\n",
              "       grad_fn=<AddmmBackward0>)"
            ]
          },
          "metadata": {},
          "execution_count": 28
        }
      ]
    },
    {
      "cell_type": "code",
      "source": [
        "int(torch.argmax(result.logits))+1"
      ],
      "metadata": {
        "colab": {
          "base_uri": "https://localhost:8080/"
        },
        "id": "ejn_mQ5YnHGT",
        "outputId": "363d9f88-72fc-443b-d539-3fd1f13fca92"
      },
      "execution_count": 29,
      "outputs": [
        {
          "output_type": "execute_result",
          "data": {
            "text/plain": [
              "4"
            ]
          },
          "metadata": {},
          "execution_count": 29
        }
      ]
    },
    {
      "cell_type": "code",
      "source": [
        "def sentiment_score(review):\n",
        "    tokens = tokenizer.encode(review, return_tensors='pt')\n",
        "    result = model(tokens)\n",
        "    return int(torch.argmax(result.logits))+1"
      ],
      "metadata": {
        "id": "Lubj8rU3nUWo"
      },
      "execution_count": 30,
      "outputs": []
    },
    {
      "cell_type": "code",
      "source": [
        "sentiment_score(data['comments'].iloc[1])"
      ],
      "metadata": {
        "colab": {
          "base_uri": "https://localhost:8080/"
        },
        "id": "ItySG83DnWi8",
        "outputId": "1319a741-ae8e-4e0d-cc24-ced29741730b"
      },
      "execution_count": 31,
      "outputs": [
        {
          "output_type": "execute_result",
          "data": {
            "text/plain": [
              "5"
            ]
          },
          "metadata": {},
          "execution_count": 31
        }
      ]
    },
    {
      "cell_type": "code",
      "source": [
        "data['sentiment'] = data['comments'][:1000].apply(lambda x: sentiment_score(x[:512]))"
      ],
      "metadata": {
        "colab": {
          "base_uri": "https://localhost:8080/"
        },
        "id": "A1lWLqPTnadx",
        "outputId": "def1a041-08c9-4735-bb2f-93470e6b29c5"
      },
      "execution_count": 32,
      "outputs": [
        {
          "output_type": "stream",
          "name": "stderr",
          "text": [
            "<ipython-input-32-25679dd44a20>:1: SettingWithCopyWarning: \n",
            "A value is trying to be set on a copy of a slice from a DataFrame.\n",
            "Try using .loc[row_indexer,col_indexer] = value instead\n",
            "\n",
            "See the caveats in the documentation: https://pandas.pydata.org/pandas-docs/stable/user_guide/indexing.html#returning-a-view-versus-a-copy\n",
            "  data['sentiment'] = data['comments'][:1000].apply(lambda x: sentiment_score(x[:512]))\n"
          ]
        }
      ]
    },
    {
      "cell_type": "code",
      "source": [
        "data"
      ],
      "metadata": {
        "colab": {
          "base_uri": "https://localhost:8080/",
          "height": 424
        },
        "id": "r8bnfoJCaHc3",
        "outputId": "cb8852e7-ac9c-4123-b535-ba3eca1e969b"
      },
      "execution_count": 33,
      "outputs": [
        {
          "output_type": "execute_result",
          "data": {
            "text/plain": [
              "       listing_id        id        date  reviewer_id reviewer_name  \\\n",
              "0         7202016  38917982  2015-07-19     28943674        Bianca   \n",
              "1         7202016  39087409  2015-07-20     32440555         Frank   \n",
              "2         7202016  39820030  2015-07-26     37722850           Ian   \n",
              "3         7202016  40813543  2015-08-02     33671805        George   \n",
              "4         7202016  41986501  2015-08-10     34959538          Ming   \n",
              "...           ...       ...         ...          ...           ...   \n",
              "84844     3624990  50436321  2015-10-12     37419458          Ryan   \n",
              "84845     3624990  51024875  2015-10-17      6933252         Linda   \n",
              "84846     3624990  51511988  2015-10-20     19543701         Jaime   \n",
              "84847     3624990  52814482  2015-11-02     24445024        Jørgen   \n",
              "84848     9727246  56429621  2015-12-13     30860360     Stephanie   \n",
              "\n",
              "                                                comments  sentiment  \n",
              "0      Cute and cozy place. Perfect location to every...        5.0  \n",
              "1      Kelly has a great room in a very central locat...        5.0  \n",
              "2      Very spacious apartment, and in a great neighb...        4.0  \n",
              "3      Close to Seattle Center and all it has to offe...        5.0  \n",
              "4      Kelly was a great host and very accommodating ...        5.0  \n",
              "...                                                  ...        ...  \n",
              "84844  The description and pictures of the apartment ...        NaN  \n",
              "84845  We had an excellent stay. It was clean and com...        NaN  \n",
              "84846  Gran ubicación, cerca de todo lo atractivo del...        NaN  \n",
              "84847  Very good apartement, clean and well sized. Si...        NaN  \n",
              "84848  Breanne was a great host. Check in was easy, s...        NaN  \n",
              "\n",
              "[84831 rows x 7 columns]"
            ],
            "text/html": [
              "\n",
              "  <div id=\"df-9a7e8c36-a9ef-439c-b122-680a0fda9a1a\">\n",
              "    <div class=\"colab-df-container\">\n",
              "      <div>\n",
              "<style scoped>\n",
              "    .dataframe tbody tr th:only-of-type {\n",
              "        vertical-align: middle;\n",
              "    }\n",
              "\n",
              "    .dataframe tbody tr th {\n",
              "        vertical-align: top;\n",
              "    }\n",
              "\n",
              "    .dataframe thead th {\n",
              "        text-align: right;\n",
              "    }\n",
              "</style>\n",
              "<table border=\"1\" class=\"dataframe\">\n",
              "  <thead>\n",
              "    <tr style=\"text-align: right;\">\n",
              "      <th></th>\n",
              "      <th>listing_id</th>\n",
              "      <th>id</th>\n",
              "      <th>date</th>\n",
              "      <th>reviewer_id</th>\n",
              "      <th>reviewer_name</th>\n",
              "      <th>comments</th>\n",
              "      <th>sentiment</th>\n",
              "    </tr>\n",
              "  </thead>\n",
              "  <tbody>\n",
              "    <tr>\n",
              "      <th>0</th>\n",
              "      <td>7202016</td>\n",
              "      <td>38917982</td>\n",
              "      <td>2015-07-19</td>\n",
              "      <td>28943674</td>\n",
              "      <td>Bianca</td>\n",
              "      <td>Cute and cozy place. Perfect location to every...</td>\n",
              "      <td>5.0</td>\n",
              "    </tr>\n",
              "    <tr>\n",
              "      <th>1</th>\n",
              "      <td>7202016</td>\n",
              "      <td>39087409</td>\n",
              "      <td>2015-07-20</td>\n",
              "      <td>32440555</td>\n",
              "      <td>Frank</td>\n",
              "      <td>Kelly has a great room in a very central locat...</td>\n",
              "      <td>5.0</td>\n",
              "    </tr>\n",
              "    <tr>\n",
              "      <th>2</th>\n",
              "      <td>7202016</td>\n",
              "      <td>39820030</td>\n",
              "      <td>2015-07-26</td>\n",
              "      <td>37722850</td>\n",
              "      <td>Ian</td>\n",
              "      <td>Very spacious apartment, and in a great neighb...</td>\n",
              "      <td>4.0</td>\n",
              "    </tr>\n",
              "    <tr>\n",
              "      <th>3</th>\n",
              "      <td>7202016</td>\n",
              "      <td>40813543</td>\n",
              "      <td>2015-08-02</td>\n",
              "      <td>33671805</td>\n",
              "      <td>George</td>\n",
              "      <td>Close to Seattle Center and all it has to offe...</td>\n",
              "      <td>5.0</td>\n",
              "    </tr>\n",
              "    <tr>\n",
              "      <th>4</th>\n",
              "      <td>7202016</td>\n",
              "      <td>41986501</td>\n",
              "      <td>2015-08-10</td>\n",
              "      <td>34959538</td>\n",
              "      <td>Ming</td>\n",
              "      <td>Kelly was a great host and very accommodating ...</td>\n",
              "      <td>5.0</td>\n",
              "    </tr>\n",
              "    <tr>\n",
              "      <th>...</th>\n",
              "      <td>...</td>\n",
              "      <td>...</td>\n",
              "      <td>...</td>\n",
              "      <td>...</td>\n",
              "      <td>...</td>\n",
              "      <td>...</td>\n",
              "      <td>...</td>\n",
              "    </tr>\n",
              "    <tr>\n",
              "      <th>84844</th>\n",
              "      <td>3624990</td>\n",
              "      <td>50436321</td>\n",
              "      <td>2015-10-12</td>\n",
              "      <td>37419458</td>\n",
              "      <td>Ryan</td>\n",
              "      <td>The description and pictures of the apartment ...</td>\n",
              "      <td>NaN</td>\n",
              "    </tr>\n",
              "    <tr>\n",
              "      <th>84845</th>\n",
              "      <td>3624990</td>\n",
              "      <td>51024875</td>\n",
              "      <td>2015-10-17</td>\n",
              "      <td>6933252</td>\n",
              "      <td>Linda</td>\n",
              "      <td>We had an excellent stay. It was clean and com...</td>\n",
              "      <td>NaN</td>\n",
              "    </tr>\n",
              "    <tr>\n",
              "      <th>84846</th>\n",
              "      <td>3624990</td>\n",
              "      <td>51511988</td>\n",
              "      <td>2015-10-20</td>\n",
              "      <td>19543701</td>\n",
              "      <td>Jaime</td>\n",
              "      <td>Gran ubicación, cerca de todo lo atractivo del...</td>\n",
              "      <td>NaN</td>\n",
              "    </tr>\n",
              "    <tr>\n",
              "      <th>84847</th>\n",
              "      <td>3624990</td>\n",
              "      <td>52814482</td>\n",
              "      <td>2015-11-02</td>\n",
              "      <td>24445024</td>\n",
              "      <td>Jørgen</td>\n",
              "      <td>Very good apartement, clean and well sized. Si...</td>\n",
              "      <td>NaN</td>\n",
              "    </tr>\n",
              "    <tr>\n",
              "      <th>84848</th>\n",
              "      <td>9727246</td>\n",
              "      <td>56429621</td>\n",
              "      <td>2015-12-13</td>\n",
              "      <td>30860360</td>\n",
              "      <td>Stephanie</td>\n",
              "      <td>Breanne was a great host. Check in was easy, s...</td>\n",
              "      <td>NaN</td>\n",
              "    </tr>\n",
              "  </tbody>\n",
              "</table>\n",
              "<p>84831 rows × 7 columns</p>\n",
              "</div>\n",
              "      <button class=\"colab-df-convert\" onclick=\"convertToInteractive('df-9a7e8c36-a9ef-439c-b122-680a0fda9a1a')\"\n",
              "              title=\"Convert this dataframe to an interactive table.\"\n",
              "              style=\"display:none;\">\n",
              "        \n",
              "  <svg xmlns=\"http://www.w3.org/2000/svg\" height=\"24px\"viewBox=\"0 0 24 24\"\n",
              "       width=\"24px\">\n",
              "    <path d=\"M0 0h24v24H0V0z\" fill=\"none\"/>\n",
              "    <path d=\"M18.56 5.44l.94 2.06.94-2.06 2.06-.94-2.06-.94-.94-2.06-.94 2.06-2.06.94zm-11 1L8.5 8.5l.94-2.06 2.06-.94-2.06-.94L8.5 2.5l-.94 2.06-2.06.94zm10 10l.94 2.06.94-2.06 2.06-.94-2.06-.94-.94-2.06-.94 2.06-2.06.94z\"/><path d=\"M17.41 7.96l-1.37-1.37c-.4-.4-.92-.59-1.43-.59-.52 0-1.04.2-1.43.59L10.3 9.45l-7.72 7.72c-.78.78-.78 2.05 0 2.83L4 21.41c.39.39.9.59 1.41.59.51 0 1.02-.2 1.41-.59l7.78-7.78 2.81-2.81c.8-.78.8-2.07 0-2.86zM5.41 20L4 18.59l7.72-7.72 1.47 1.35L5.41 20z\"/>\n",
              "  </svg>\n",
              "      </button>\n",
              "      \n",
              "  <style>\n",
              "    .colab-df-container {\n",
              "      display:flex;\n",
              "      flex-wrap:wrap;\n",
              "      gap: 12px;\n",
              "    }\n",
              "\n",
              "    .colab-df-convert {\n",
              "      background-color: #E8F0FE;\n",
              "      border: none;\n",
              "      border-radius: 50%;\n",
              "      cursor: pointer;\n",
              "      display: none;\n",
              "      fill: #1967D2;\n",
              "      height: 32px;\n",
              "      padding: 0 0 0 0;\n",
              "      width: 32px;\n",
              "    }\n",
              "\n",
              "    .colab-df-convert:hover {\n",
              "      background-color: #E2EBFA;\n",
              "      box-shadow: 0px 1px 2px rgba(60, 64, 67, 0.3), 0px 1px 3px 1px rgba(60, 64, 67, 0.15);\n",
              "      fill: #174EA6;\n",
              "    }\n",
              "\n",
              "    [theme=dark] .colab-df-convert {\n",
              "      background-color: #3B4455;\n",
              "      fill: #D2E3FC;\n",
              "    }\n",
              "\n",
              "    [theme=dark] .colab-df-convert:hover {\n",
              "      background-color: #434B5C;\n",
              "      box-shadow: 0px 1px 3px 1px rgba(0, 0, 0, 0.15);\n",
              "      filter: drop-shadow(0px 1px 2px rgba(0, 0, 0, 0.3));\n",
              "      fill: #FFFFFF;\n",
              "    }\n",
              "  </style>\n",
              "\n",
              "      <script>\n",
              "        const buttonEl =\n",
              "          document.querySelector('#df-9a7e8c36-a9ef-439c-b122-680a0fda9a1a button.colab-df-convert');\n",
              "        buttonEl.style.display =\n",
              "          google.colab.kernel.accessAllowed ? 'block' : 'none';\n",
              "\n",
              "        async function convertToInteractive(key) {\n",
              "          const element = document.querySelector('#df-9a7e8c36-a9ef-439c-b122-680a0fda9a1a');\n",
              "          const dataTable =\n",
              "            await google.colab.kernel.invokeFunction('convertToInteractive',\n",
              "                                                     [key], {});\n",
              "          if (!dataTable) return;\n",
              "\n",
              "          const docLinkHtml = 'Like what you see? Visit the ' +\n",
              "            '<a target=\"_blank\" href=https://colab.research.google.com/notebooks/data_table.ipynb>data table notebook</a>'\n",
              "            + ' to learn more about interactive tables.';\n",
              "          element.innerHTML = '';\n",
              "          dataTable['output_type'] = 'display_data';\n",
              "          await google.colab.output.renderOutput(dataTable, element);\n",
              "          const docLink = document.createElement('div');\n",
              "          docLink.innerHTML = docLinkHtml;\n",
              "          element.appendChild(docLink);\n",
              "        }\n",
              "      </script>\n",
              "    </div>\n",
              "  </div>\n",
              "  "
            ]
          },
          "metadata": {},
          "execution_count": 33
        }
      ]
    },
    {
      "cell_type": "code",
      "source": [
        "data = data.dropna()\n",
        "data"
      ],
      "metadata": {
        "colab": {
          "base_uri": "https://localhost:8080/",
          "height": 424
        },
        "id": "d98Dz10QVYQs",
        "outputId": "127623f1-710c-4212-9179-cf2bba24afb8"
      },
      "execution_count": 34,
      "outputs": [
        {
          "output_type": "execute_result",
          "data": {
            "text/plain": [
              "     listing_id        id        date  reviewer_id reviewer_name  \\\n",
              "0       7202016  38917982  2015-07-19     28943674        Bianca   \n",
              "1       7202016  39087409  2015-07-20     32440555         Frank   \n",
              "2       7202016  39820030  2015-07-26     37722850           Ian   \n",
              "3       7202016  40813543  2015-08-02     33671805        George   \n",
              "4       7202016  41986501  2015-08-10     34959538          Ming   \n",
              "..          ...       ...         ...          ...           ...   \n",
              "995     1707064  51046100  2015-10-17     27275711         Emily   \n",
              "996     1707064  51922162  2015-10-25      6770493     Agnieszka   \n",
              "997     1707064  52525277  2015-10-30      6210581            Ed   \n",
              "998     1707064  53439038  2015-11-08      1101965         Lesli   \n",
              "999     1707064  53658766  2015-11-10      9336316        Andrew   \n",
              "\n",
              "                                              comments  sentiment  \n",
              "0    Cute and cozy place. Perfect location to every...        5.0  \n",
              "1    Kelly has a great room in a very central locat...        5.0  \n",
              "2    Very spacious apartment, and in a great neighb...        4.0  \n",
              "3    Close to Seattle Center and all it has to offe...        5.0  \n",
              "4    Kelly was a great host and very accommodating ...        5.0  \n",
              "..                                                 ...        ...  \n",
              "995  Cory and Amanda were wonderful hosts! The chec...        5.0  \n",
              "996  My friend and I came to Seattle for a birthday...        4.0  \n",
              "997  Cory and Amanda's place was wonderful! Located...        5.0  \n",
              "998  We had an amazing stay with Cory and Amanda!  ...        5.0  \n",
              "999  Great communication from the hosts before, thr...        5.0  \n",
              "\n",
              "[1000 rows x 7 columns]"
            ],
            "text/html": [
              "\n",
              "  <div id=\"df-4e8540d9-5b4f-41a2-8ebd-657c0e399b5f\">\n",
              "    <div class=\"colab-df-container\">\n",
              "      <div>\n",
              "<style scoped>\n",
              "    .dataframe tbody tr th:only-of-type {\n",
              "        vertical-align: middle;\n",
              "    }\n",
              "\n",
              "    .dataframe tbody tr th {\n",
              "        vertical-align: top;\n",
              "    }\n",
              "\n",
              "    .dataframe thead th {\n",
              "        text-align: right;\n",
              "    }\n",
              "</style>\n",
              "<table border=\"1\" class=\"dataframe\">\n",
              "  <thead>\n",
              "    <tr style=\"text-align: right;\">\n",
              "      <th></th>\n",
              "      <th>listing_id</th>\n",
              "      <th>id</th>\n",
              "      <th>date</th>\n",
              "      <th>reviewer_id</th>\n",
              "      <th>reviewer_name</th>\n",
              "      <th>comments</th>\n",
              "      <th>sentiment</th>\n",
              "    </tr>\n",
              "  </thead>\n",
              "  <tbody>\n",
              "    <tr>\n",
              "      <th>0</th>\n",
              "      <td>7202016</td>\n",
              "      <td>38917982</td>\n",
              "      <td>2015-07-19</td>\n",
              "      <td>28943674</td>\n",
              "      <td>Bianca</td>\n",
              "      <td>Cute and cozy place. Perfect location to every...</td>\n",
              "      <td>5.0</td>\n",
              "    </tr>\n",
              "    <tr>\n",
              "      <th>1</th>\n",
              "      <td>7202016</td>\n",
              "      <td>39087409</td>\n",
              "      <td>2015-07-20</td>\n",
              "      <td>32440555</td>\n",
              "      <td>Frank</td>\n",
              "      <td>Kelly has a great room in a very central locat...</td>\n",
              "      <td>5.0</td>\n",
              "    </tr>\n",
              "    <tr>\n",
              "      <th>2</th>\n",
              "      <td>7202016</td>\n",
              "      <td>39820030</td>\n",
              "      <td>2015-07-26</td>\n",
              "      <td>37722850</td>\n",
              "      <td>Ian</td>\n",
              "      <td>Very spacious apartment, and in a great neighb...</td>\n",
              "      <td>4.0</td>\n",
              "    </tr>\n",
              "    <tr>\n",
              "      <th>3</th>\n",
              "      <td>7202016</td>\n",
              "      <td>40813543</td>\n",
              "      <td>2015-08-02</td>\n",
              "      <td>33671805</td>\n",
              "      <td>George</td>\n",
              "      <td>Close to Seattle Center and all it has to offe...</td>\n",
              "      <td>5.0</td>\n",
              "    </tr>\n",
              "    <tr>\n",
              "      <th>4</th>\n",
              "      <td>7202016</td>\n",
              "      <td>41986501</td>\n",
              "      <td>2015-08-10</td>\n",
              "      <td>34959538</td>\n",
              "      <td>Ming</td>\n",
              "      <td>Kelly was a great host and very accommodating ...</td>\n",
              "      <td>5.0</td>\n",
              "    </tr>\n",
              "    <tr>\n",
              "      <th>...</th>\n",
              "      <td>...</td>\n",
              "      <td>...</td>\n",
              "      <td>...</td>\n",
              "      <td>...</td>\n",
              "      <td>...</td>\n",
              "      <td>...</td>\n",
              "      <td>...</td>\n",
              "    </tr>\n",
              "    <tr>\n",
              "      <th>995</th>\n",
              "      <td>1707064</td>\n",
              "      <td>51046100</td>\n",
              "      <td>2015-10-17</td>\n",
              "      <td>27275711</td>\n",
              "      <td>Emily</td>\n",
              "      <td>Cory and Amanda were wonderful hosts! The chec...</td>\n",
              "      <td>5.0</td>\n",
              "    </tr>\n",
              "    <tr>\n",
              "      <th>996</th>\n",
              "      <td>1707064</td>\n",
              "      <td>51922162</td>\n",
              "      <td>2015-10-25</td>\n",
              "      <td>6770493</td>\n",
              "      <td>Agnieszka</td>\n",
              "      <td>My friend and I came to Seattle for a birthday...</td>\n",
              "      <td>4.0</td>\n",
              "    </tr>\n",
              "    <tr>\n",
              "      <th>997</th>\n",
              "      <td>1707064</td>\n",
              "      <td>52525277</td>\n",
              "      <td>2015-10-30</td>\n",
              "      <td>6210581</td>\n",
              "      <td>Ed</td>\n",
              "      <td>Cory and Amanda's place was wonderful! Located...</td>\n",
              "      <td>5.0</td>\n",
              "    </tr>\n",
              "    <tr>\n",
              "      <th>998</th>\n",
              "      <td>1707064</td>\n",
              "      <td>53439038</td>\n",
              "      <td>2015-11-08</td>\n",
              "      <td>1101965</td>\n",
              "      <td>Lesli</td>\n",
              "      <td>We had an amazing stay with Cory and Amanda!  ...</td>\n",
              "      <td>5.0</td>\n",
              "    </tr>\n",
              "    <tr>\n",
              "      <th>999</th>\n",
              "      <td>1707064</td>\n",
              "      <td>53658766</td>\n",
              "      <td>2015-11-10</td>\n",
              "      <td>9336316</td>\n",
              "      <td>Andrew</td>\n",
              "      <td>Great communication from the hosts before, thr...</td>\n",
              "      <td>5.0</td>\n",
              "    </tr>\n",
              "  </tbody>\n",
              "</table>\n",
              "<p>1000 rows × 7 columns</p>\n",
              "</div>\n",
              "      <button class=\"colab-df-convert\" onclick=\"convertToInteractive('df-4e8540d9-5b4f-41a2-8ebd-657c0e399b5f')\"\n",
              "              title=\"Convert this dataframe to an interactive table.\"\n",
              "              style=\"display:none;\">\n",
              "        \n",
              "  <svg xmlns=\"http://www.w3.org/2000/svg\" height=\"24px\"viewBox=\"0 0 24 24\"\n",
              "       width=\"24px\">\n",
              "    <path d=\"M0 0h24v24H0V0z\" fill=\"none\"/>\n",
              "    <path d=\"M18.56 5.44l.94 2.06.94-2.06 2.06-.94-2.06-.94-.94-2.06-.94 2.06-2.06.94zm-11 1L8.5 8.5l.94-2.06 2.06-.94-2.06-.94L8.5 2.5l-.94 2.06-2.06.94zm10 10l.94 2.06.94-2.06 2.06-.94-2.06-.94-.94-2.06-.94 2.06-2.06.94z\"/><path d=\"M17.41 7.96l-1.37-1.37c-.4-.4-.92-.59-1.43-.59-.52 0-1.04.2-1.43.59L10.3 9.45l-7.72 7.72c-.78.78-.78 2.05 0 2.83L4 21.41c.39.39.9.59 1.41.59.51 0 1.02-.2 1.41-.59l7.78-7.78 2.81-2.81c.8-.78.8-2.07 0-2.86zM5.41 20L4 18.59l7.72-7.72 1.47 1.35L5.41 20z\"/>\n",
              "  </svg>\n",
              "      </button>\n",
              "      \n",
              "  <style>\n",
              "    .colab-df-container {\n",
              "      display:flex;\n",
              "      flex-wrap:wrap;\n",
              "      gap: 12px;\n",
              "    }\n",
              "\n",
              "    .colab-df-convert {\n",
              "      background-color: #E8F0FE;\n",
              "      border: none;\n",
              "      border-radius: 50%;\n",
              "      cursor: pointer;\n",
              "      display: none;\n",
              "      fill: #1967D2;\n",
              "      height: 32px;\n",
              "      padding: 0 0 0 0;\n",
              "      width: 32px;\n",
              "    }\n",
              "\n",
              "    .colab-df-convert:hover {\n",
              "      background-color: #E2EBFA;\n",
              "      box-shadow: 0px 1px 2px rgba(60, 64, 67, 0.3), 0px 1px 3px 1px rgba(60, 64, 67, 0.15);\n",
              "      fill: #174EA6;\n",
              "    }\n",
              "\n",
              "    [theme=dark] .colab-df-convert {\n",
              "      background-color: #3B4455;\n",
              "      fill: #D2E3FC;\n",
              "    }\n",
              "\n",
              "    [theme=dark] .colab-df-convert:hover {\n",
              "      background-color: #434B5C;\n",
              "      box-shadow: 0px 1px 3px 1px rgba(0, 0, 0, 0.15);\n",
              "      filter: drop-shadow(0px 1px 2px rgba(0, 0, 0, 0.3));\n",
              "      fill: #FFFFFF;\n",
              "    }\n",
              "  </style>\n",
              "\n",
              "      <script>\n",
              "        const buttonEl =\n",
              "          document.querySelector('#df-4e8540d9-5b4f-41a2-8ebd-657c0e399b5f button.colab-df-convert');\n",
              "        buttonEl.style.display =\n",
              "          google.colab.kernel.accessAllowed ? 'block' : 'none';\n",
              "\n",
              "        async function convertToInteractive(key) {\n",
              "          const element = document.querySelector('#df-4e8540d9-5b4f-41a2-8ebd-657c0e399b5f');\n",
              "          const dataTable =\n",
              "            await google.colab.kernel.invokeFunction('convertToInteractive',\n",
              "                                                     [key], {});\n",
              "          if (!dataTable) return;\n",
              "\n",
              "          const docLinkHtml = 'Like what you see? Visit the ' +\n",
              "            '<a target=\"_blank\" href=https://colab.research.google.com/notebooks/data_table.ipynb>data table notebook</a>'\n",
              "            + ' to learn more about interactive tables.';\n",
              "          element.innerHTML = '';\n",
              "          dataTable['output_type'] = 'display_data';\n",
              "          await google.colab.output.renderOutput(dataTable, element);\n",
              "          const docLink = document.createElement('div');\n",
              "          docLink.innerHTML = docLinkHtml;\n",
              "          element.appendChild(docLink);\n",
              "        }\n",
              "      </script>\n",
              "    </div>\n",
              "  </div>\n",
              "  "
            ]
          },
          "metadata": {},
          "execution_count": 34
        }
      ]
    },
    {
      "cell_type": "code",
      "source": [
        "data['comments'][:1]"
      ],
      "metadata": {
        "colab": {
          "base_uri": "https://localhost:8080/"
        },
        "id": "j6E2o640neyf",
        "outputId": "fdda76fb-0a9f-4eda-8dfd-2a0d495d1904"
      },
      "execution_count": 35,
      "outputs": [
        {
          "output_type": "execute_result",
          "data": {
            "text/plain": [
              "0    Cute and cozy place. Perfect location to every...\n",
              "Name: comments, dtype: object"
            ]
          },
          "metadata": {},
          "execution_count": 35
        }
      ]
    },
    {
      "cell_type": "markdown",
      "source": [
        "Onehot encoding"
      ],
      "metadata": {
        "id": "Q-b_G1tvpMwm"
      }
    },
    {
      "cell_type": "code",
      "source": [
        "text = data['comments'].tolist()"
      ],
      "metadata": {
        "id": "tAdnMxK1P-UZ"
      },
      "execution_count": 36,
      "outputs": []
    },
    {
      "cell_type": "code",
      "source": [
        "\n",
        "\n",
        "# Create a vocabulary of all the unique words in the text\n",
        "vocabulary = list(set([word for line in text for word in line.split()]))\n",
        "\n",
        "# Create an empty dictionary to hold the one-hot encoding\n",
        "one_hot_dict = {}\n",
        "\n",
        "# Loop through the words in the vocabulary and set the binary values for each word in the text\n",
        "for word in vocabulary:\n",
        "    one_hot_dict[word] = []\n",
        "    for line in text:\n",
        "        if word in line:\n",
        "            one_hot_dict[word].append(1)\n",
        "        else:\n",
        "            one_hot_dict[word].append(0)\n",
        "\n",
        "# Create a Pandas DataFrame from the one-hot dictionary\n",
        "df = pd.DataFrame.from_dict(one_hot_dict)\n",
        "\n",
        "# Print the DataFrame\n",
        "print(df)\n"
      ],
      "metadata": {
        "colab": {
          "base_uri": "https://localhost:8080/"
        },
        "id": "YmnE7UbWPzKN",
        "outputId": "fb61ebcb-8fc9-4fa0-d81a-89d1a257f6f2"
      },
      "execution_count": 37,
      "outputs": [
        {
          "output_type": "stream",
          "name": "stdout",
          "text": [
            "     superfriendly  contained  old's  entertainment.  flexible.  Station,  \\\n",
            "0                0          0      0               0          0         0   \n",
            "1                0          0      0               0          0         0   \n",
            "2                0          0      0               0          0         0   \n",
            "3                0          0      0               0          0         0   \n",
            "4                0          0      0               0          0         0   \n",
            "..             ...        ...    ...             ...        ...       ...   \n",
            "995              0          0      0               0          0         0   \n",
            "996              0          0      0               0          0         0   \n",
            "997              0          0      0               0          0         0   \n",
            "998              0          0      0               0          0         0   \n",
            "999              0          0      0               0          0         0   \n",
            "\n",
            "     Top  king-size  needed  Hello  ...  arrived,....and  Guests  Highland  \\\n",
            "0      0          0       0      0  ...                0       0         0   \n",
            "1      0          0       0      0  ...                0       0         0   \n",
            "2      0          0       0      0  ...                0       0         0   \n",
            "3      0          0       0      0  ...                0       0         0   \n",
            "4      0          0       0      0  ...                0       0         0   \n",
            "..   ...        ...     ...    ...  ...              ...     ...       ...   \n",
            "995    0          0       0      0  ...                0       0         0   \n",
            "996    0          0       1      0  ...                0       0         0   \n",
            "997    0          0       0      0  ...                0       0         0   \n",
            "998    0          0       1      0  ...                0       0         0   \n",
            "999    0          0       0      0  ...                0       0         0   \n",
            "\n",
            "     durften.  traveler,  far.  below  schedule  accomodation  demeanor  \n",
            "0           0          0     0      0         0             0         0  \n",
            "1           0          0     0      0         0             0         0  \n",
            "2           0          0     0      0         0             0         0  \n",
            "3           0          0     0      0         0             0         0  \n",
            "4           0          0     0      0         0             0         0  \n",
            "..        ...        ...   ...    ...       ...           ...       ...  \n",
            "995         0          0     0      0         0             0         0  \n",
            "996         0          0     0      0         0             0         0  \n",
            "997         0          0     0      0         0             0         0  \n",
            "998         0          0     0      0         0             0         0  \n",
            "999         0          0     0      0         0             0         0  \n",
            "\n",
            "[1000 rows x 7575 columns]\n"
          ]
        }
      ]
    },
    {
      "cell_type": "code",
      "source": [
        "X = df.copy()\n",
        "y = data['sentiment']"
      ],
      "metadata": {
        "id": "WAN6g5RCQOtW"
      },
      "execution_count": 38,
      "outputs": []
    },
    {
      "cell_type": "code",
      "source": [
        "y.value_counts()"
      ],
      "metadata": {
        "colab": {
          "base_uri": "https://localhost:8080/"
        },
        "id": "53bVtFDDkhvX",
        "outputId": "0361d930-4c18-4351-cae0-b7f1829f1b65"
      },
      "execution_count": 39,
      "outputs": [
        {
          "output_type": "execute_result",
          "data": {
            "text/plain": [
              "5.0    699\n",
              "4.0    282\n",
              "3.0     11\n",
              "1.0      6\n",
              "2.0      2\n",
              "Name: sentiment, dtype: int64"
            ]
          },
          "metadata": {},
          "execution_count": 39
        }
      ]
    },
    {
      "cell_type": "code",
      "source": [
        "\n",
        "from matplotlib import pyplot as plt\n",
        "def label_function(val):\n",
        "    return f'{val / 100 * len(df):.0f}\\n{val:.0f}%'\n",
        "\n",
        "fig, (ax1) = plt.subplots(ncols=1, figsize=(10, 5))\n",
        "\n",
        "data.groupby('sentiment').size().plot(kind='pie', autopct=label_function, textprops={'fontsize': 20},\n",
        "                                  colors=['tomato', 'violet', 'skyblue','gold','lime'], ax=ax1)\n",
        "ax1.set_ylabel('sentiment Value', size=22)\n",
        "plt.tight_layout()\n",
        "plt.show()"
      ],
      "metadata": {
        "colab": {
          "base_uri": "https://localhost:8080/",
          "height": 369
        },
        "id": "-fSFzf5ElQS1",
        "outputId": "12376e7a-640b-4dc2-c3dd-c1c94aa9deae"
      },
      "execution_count": 40,
      "outputs": [
        {
          "output_type": "display_data",
          "data": {
            "text/plain": [
              "<Figure size 720x360 with 1 Axes>"
            ],
            "image/png": "[encoded data removed]"
          },
          "metadata": {}
        }
      ]
    },
    {
      "cell_type": "code",
      "source": [
        "from sklearn.model_selection import train_test_split\n",
        "\n",
        "X_train, X_test, y_train, y_test = train_test_split(X, y, test_size=0.10, random_state=70)"
      ],
      "metadata": {
        "id": "_IPRr1ggRDNP"
      },
      "execution_count": 41,
      "outputs": []
    },
    {
      "cell_type": "code",
      "source": [
        "# Import the necessary libraries\n",
        "import numpy as np\n",
        "import tensorflow as tf\n",
        "from tensorflow import keras\n",
        "\n",
        "# Define the DNN architecture\n",
        "model = keras.Sequential([\n",
        "    # keras.layers.Flatten(input_shape=(0, 7575)),\n",
        "    # keras.layers.Dense(60000, activation='relu'),\n",
        "    keras.layers.Dense(5000, activation='relu'),\n",
        "    keras.layers.Dense(3000, activation='relu'),\n",
        "    keras.layers.Dense(2000, activation='relu'),\n",
        "    keras.layers.Dense(1000, activation='relu'),\n",
        "    # keras.layers.Dense(500, activation='relu'),\n",
        "    # keras.layers.Dense(250, activation='relu'),\n",
        "    # keras.layers.Dense(128, activation='relu'),\n",
        "    # keras.layers.Dense(64, activation='relu'),\n",
        "    # keras.layers.Dense(32, activation='relu'),\n",
        "    # keras.layers.Dense(16, activation='relu'),\n",
        "    # keras.layers.Dense(8, activation='relu'),\n",
        "    # keras.layers.Dense(4, activation='relu'),\n",
        "    # keras.layers.Dense(2, activation='relu'),\n",
        "    keras.layers.Dense(1, activation='sigmoid')\n",
        "])\n",
        "\n",
        "# Compile the model\n",
        "model.compile(optimizer='adam', loss='binary_crossentropy', metrics=['accuracy'])\n",
        "\n",
        "\n"
      ],
      "metadata": {
        "id": "601zntD0pJIs"
      },
      "execution_count": 42,
      "outputs": []
    },
    {
      "cell_type": "code",
      "source": [
        "# Train the model\n",
        "history=model.fit(X_train.to_numpy(), y_train.to_numpy(), epochs=10, batch_size=82, validation_split=0.1)\n",
        "\n",
        "# Evaluate the model on the test set\n",
        "test_loss, test_acc = model.evaluate(X_test.to_numpy(), y_test.to_numpy())\n",
        "print('Test accuracy:', test_acc)"
      ],
      "metadata": {
        "id": "JwrXprLaniKN",
        "colab": {
          "base_uri": "https://localhost:8080/"
        },
        "outputId": "64e2093a-8e3b-452e-ac9d-10eedbd743aa"
      },
      "execution_count": 43,
      "outputs": [
        {
          "output_type": "stream",
          "name": "stdout",
          "text": [
            "Epoch 1/10\n",
            "10/10 [==============================] - 20s 2s/step - loss: -30061.8516 - accuracy: 0.0049 - val_loss: -225130.1719 - val_accuracy: 0.0222\n",
            "Epoch 2/10\n",
            "10/10 [==============================] - 17s 2s/step - loss: -1928147.3750 - accuracy: 0.0049 - val_loss: -6804379.5000 - val_accuracy: 0.0222\n",
            "Epoch 3/10\n",
            "10/10 [==============================] - 18s 2s/step - loss: -24906768.0000 - accuracy: 0.0049 - val_loss: -64851164.0000 - val_accuracy: 0.0222\n",
            "Epoch 4/10\n",
            "10/10 [==============================] - 17s 2s/step - loss: -167724448.0000 - accuracy: 0.0049 - val_loss: -365690400.0000 - val_accuracy: 0.0222\n",
            "Epoch 5/10\n",
            "10/10 [==============================] - 15s 1s/step - loss: -778772928.0000 - accuracy: 0.0049 - val_loss: -1502673536.0000 - val_accuracy: 0.0222\n",
            "Epoch 6/10\n",
            "10/10 [==============================] - 16s 2s/step - loss: -2841992448.0000 - accuracy: 0.0049 - val_loss: -4961256448.0000 - val_accuracy: 0.0222\n",
            "Epoch 7/10\n",
            "10/10 [==============================] - 15s 1s/step - loss: -8621859840.0000 - accuracy: 0.0049 - val_loss: -13896629248.0000 - val_accuracy: 0.0222\n",
            "Epoch 8/10\n",
            "10/10 [==============================] - 15s 2s/step - loss: -22361274368.0000 - accuracy: 0.0049 - val_loss: -34260246528.0000 - val_accuracy: 0.0222\n",
            "Epoch 9/10\n",
            "10/10 [==============================] - 16s 2s/step - loss: -52197212160.0000 - accuracy: 0.0049 - val_loss: -76252348416.0000 - val_accuracy: 0.0222\n",
            "Epoch 10/10\n",
            "10/10 [==============================] - 17s 2s/step - loss: -110812479488.0000 - accuracy: 0.0049 - val_loss: -156156133376.0000 - val_accuracy: 0.0222\n",
            "4/4 [==============================] - 1s 130ms/step - loss: -156225191936.0000 - accuracy: 0.0000e+00\n",
            "Test accuracy: 0.0\n"
          ]
        }
      ]
    },
    {
      "cell_type": "code",
      "source": [
        "import keras\n",
        "from matplotlib import pyplot as plt\n",
        "plt.plot(history.history['accuracy'])\n",
        "plt.plot(history.history['val_accuracy'])\n",
        "plt.title('model accuracy')\n",
        "plt.ylabel('accuracy')\n",
        "plt.xlabel('epoch')\n",
        "plt.legend(['train', 'val'], loc='upper left')\n",
        "plt.show()"
      ],
      "metadata": {
        "id": "qwvKDMTnRMws",
        "colab": {
          "base_uri": "https://localhost:8080/",
          "height": 295
        },
        "outputId": "d8440420-2cc3-404a-c208-72437c2442f6"
      },
      "execution_count": 44,
      "outputs": [
        {
          "output_type": "display_data",
          "data": {
            "text/plain": [
              "<Figure size 432x288 with 1 Axes>"
            ],
            "image/png": "[encoded data removed]"
          },
          "metadata": {
            "needs_background": "light"
          }
        }
      ]
    },
    {
      "cell_type": "code",
      "source": [
        "plt.plot(history.history['loss'])\n",
        "plt.plot(history.history['val_loss'])\n",
        "plt.title('model loss')\n",
        "plt.ylabel('loss')\n",
        "plt.xlabel('epoch')\n",
        "plt.legend(['train', 'val'], loc='upper left')\n",
        "plt.show()"
      ],
      "metadata": {
        "colab": {
          "base_uri": "https://localhost:8080/",
          "height": 295
        },
        "id": "9FzqnCsqduIb",
        "outputId": "e4ab34ce-5aa7-4981-e2db-396133b510ce"
      },
      "execution_count": 45,
      "outputs": [
        {
          "output_type": "display_data",
          "data": {
            "text/plain": [
              "<Figure size 432x288 with 1 Axes>"
            ],
            "image/png": "[encoded data removed]"
          },
          "metadata": {
            "needs_background": "light"
          }
        }
      ]
    }
  ]
}